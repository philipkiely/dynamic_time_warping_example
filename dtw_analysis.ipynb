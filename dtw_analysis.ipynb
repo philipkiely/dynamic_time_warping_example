{
 "cells": [
  {
   "cell_type": "code",
   "execution_count": null,
   "metadata": {},
   "outputs": [],
   "source": [
    "# Define Functions\n",
    "def compare_linear(series_a, series_b, dist=lambda x, y: abs(x - y)):\n",
    "    # Linear comparison requires equal-length lists\n",
    "    if len(series_a) != len(series_b):\n",
    "        raise IndexError(\"Lists must be of equal length\")\n",
    "    diff = 0\n",
    "    for i in range(0, len(series_a)):\n",
    "        diff += dist(series_a[i], series_b[i])\n",
    "    return diff\n",
    "\n",
    "def simple_dtw(series_a, series_b, dist=lambda x, y: abs(x - y), warp_weight=1):\n",
    "    # DTW requires equal-length lists\n",
    "    if len(series_a) != len(series_b):\n",
    "        raise IndexError(\"Lists must be of equal length\")\n",
    "    if warp_weight <= 0:\n",
    "        raise ValueError(\"Warp weight must be positive\")\n",
    "    # Initialize Accumulated Cost Matrix\n",
    "    distances = [[0 for _ in range(len(series_a))] for _ in range(len(series_b))]\n",
    "    # Initialize first cell\n",
    "    distances[0][0] = dist(series_a[0], series_b[0])\n",
    "    # Initialize first column\n",
    "    for i in range(1, len(series_b)):\n",
    "        distances[i][0] = distances[i-1][0] * warp_weight + dist(series_a[i], series_b[0])\n",
    "    # Initialize first row\n",
    "    for j in range(1, len(series_a)):\n",
    "        distances[0][j] = distances[0][j-1] * warp_weight + dist(series_a[0], series_b[j])\n",
    "    # Construct the Accumulated Cost Matrix\n",
    "    for i in range(1, len(series_a)):\n",
    "        for j in range(1, len(series_b)):\n",
    "            distances[i][j] = min(distances[i-1][j-1], distances[i-1][j] * warp_weight, distances[i][j-1] * warp_weight) + dist(series_a[i], series_b[j])\n",
    "    return distances[-1][-1], distances"
   ]
  },
  {
   "cell_type": "code",
   "execution_count": null,
   "metadata": {},
   "outputs": [],
   "source": [
    "# Import the data\n",
    "import pandas as pd\n",
    "\n",
    "temperature = pd.read_csv(\"data/temperature.csv\")\n",
    "cities = pd.read_csv(\"data/city_attributes.csv\")[\"City\"].tolist()"
   ]
  },
  {
   "cell_type": "code",
   "execution_count": null,
   "metadata": {},
   "outputs": [],
   "source": [
    "\"\"\"\n",
    "Unfortunately, there are a number of missing values for 10 of the 36 cities.\n",
    "The rows that are missing values are fairly consistent between these cities.\n",
    "We could drop those rows, but that would leave gaps in time that would result\n",
    "in the warping path crossing much larger temporal gaps than the algorithm accounts for.\n",
    "Instead, we'll drop those 10 cities and compare among the remaining 26.\n",
    "Each of the remaining cities are missing a value or two, but because the data\n",
    "does not change rapidly from observation to observation,\n",
    "this is an appropriate use-case for simple backfilling to smooth over those gaps.\n",
    "\"\"\"\n",
    "drop_cities = [\"Vancouver\", \"San Francisco\", \"Miami\", \"New York\", \"Beersheba\", \"Tel Aviv District\", \"Eilat\", \"Haifa\", \"Nahariyya\", \"Jerusalem\"]\n",
    "temperature = temperature.drop(drop_cities, axis=1).fillna(method=\"bfill\")\n",
    "cities = [city for city in cities if city not in drop_cities]"
   ]
  },
  {
   "cell_type": "code",
   "execution_count": null,
   "metadata": {},
   "outputs": [],
   "source": [
    "# Create City Pairs\n",
    "city_pairs = []\n",
    "for i in range(0, len(cities)):\n",
    "    for j in range(i+1, len(cities)):\n",
    "        city_pairs.append([cities[i], cities[j]])"
   ]
  },
  {
   "cell_type": "code",
   "execution_count": null,
   "metadata": {},
   "outputs": [],
   "source": [
    "# Run Linear Comparison\n",
    "for pair in city_pairs:\n",
    "    pair.append(compare_linear(temperature[pair[0]], temperature[pair[1]]))\n",
    "print(sorted(city_pairs, key=lambda x: x[-1]))"
   ]
  },
  {
   "cell_type": "code",
   "execution_count": null,
   "metadata": {},
   "outputs": [],
   "source": [
    "# Don't run this! It's n squared on a very large n\n",
    "\"\"\"\n",
    "for pair in city_pairs:\n",
    "    pair.append(simple_dtw(temperature[pair[0]], temperature[pair[1]]))\n",
    "print(sorted(city_pairs, key=lambda x: x[-1]))\n",
    "\"\"\""
   ]
  },
  {
   "cell_type": "code",
   "execution_count": null,
   "metadata": {},
   "outputs": [],
   "source": [
    "# Run This! It's linear time DTW\n",
    "from fastdtw import fastdtw\n",
    "for pair in city_pairs:\n",
    "    pair.append(fastdtw(temperature[pair[0]], temperature[pair[1]], radius=240))\n",
    "print(sorted(city_pairs[:2], key=lambda x: x[-1]))"
   ]
  },
  {
   "cell_type": "code",
   "execution_count": null,
   "metadata": {},
   "outputs": [],
   "source": [
    "# Bonus: Compare simple_dtw() function to dtw library on small datasets\n",
    "from dtw import dtw\n",
    "import random\n",
    "\n",
    "for _ in range(100):\n",
    "    x = []\n",
    "    y = []\n",
    "    for _ in range(100):\n",
    "        x.append(random.randint(0, 10))\n",
    "        y.append(random.randint(0, 10))\n",
    "    d, cost_matrix, acc_cost_matrix, path = dtw(x, y, dist=lambda x, y: abs(x - y), s=2)\n",
    "    s_d, s_acc_cost_matrix = simple_dtw(x, y, dist=lambda x, y: abs(x - y), warp_weight=2)\n",
    "    assert(d == s_d)\n",
    "\n",
    "print(\"simple_dtw passed equivalence test\")"
   ]
  },
  {
   "cell_type": "code",
   "execution_count": null,
   "metadata": {},
   "outputs": [],
   "source": []
  }
 ],
 "metadata": {
  "kernelspec": {
   "display_name": "Python 3",
   "language": "python",
   "name": "python3"
  },
  "language_info": {
   "codemirror_mode": {
    "name": "ipython",
    "version": 3
   },
   "file_extension": ".py",
   "mimetype": "text/x-python",
   "name": "python",
   "nbconvert_exporter": "python",
   "pygments_lexer": "ipython3",
   "version": "3.7.5"
  }
 },
 "nbformat": 4,
 "nbformat_minor": 2
}
